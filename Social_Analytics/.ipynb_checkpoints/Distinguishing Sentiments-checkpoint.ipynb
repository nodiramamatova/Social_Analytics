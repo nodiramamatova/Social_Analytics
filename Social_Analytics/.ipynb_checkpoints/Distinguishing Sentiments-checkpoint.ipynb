{
 "cells": [
  {
   "cell_type": "markdown",
   "metadata": {},
   "source": [
    "## Unit 7 | Assignment - Distinguishing Sentiments"
   ]
  },
  {
   "cell_type": "markdown",
   "metadata": {},
   "source": [
    "## Background"
   ]
  },
  {
   "cell_type": "markdown",
   "metadata": {},
   "source": [
    "__Twitter__ has become a wildly sprawling jungle of information&mdash;140 characters at a time.\n",
    "Somewhere between 350 million and 500 million tweets are estimated to be sent out _per day_.\n",
    "With such an explosion of data, on Twitter and elsewhere, it becomes more important than ever \n",
    "to tame it in some way, to concisely capture the essence of the data.\n"
   ]
  },
  {
   "cell_type": "markdown",
   "metadata": {},
   "source": [
    "## News Mood"
   ]
  },
  {
   "cell_type": "markdown",
   "metadata": {},
   "source": [
    "In this assignment, you'll create a Python script to perform a sentiment analysis of the Twitter activity of various news oulets, and to present your findings visually."
   ]
  },
  {
   "cell_type": "code",
   "execution_count": 90,
   "metadata": {
    "collapsed": true
   },
   "outputs": [],
   "source": [
    "# Dependencies\n",
    "import numpy as np\n",
    "import pandas as pd\n",
    "import matplotlib.pyplot as plt\n",
    "import json\n",
    "import tweepy\n",
    "import time\n",
    "from datetime import datetime\n",
    "import seaborn as sns"
   ]
  },
  {
   "cell_type": "code",
   "execution_count": 91,
   "metadata": {
    "collapsed": true
   },
   "outputs": [],
   "source": [
    "# Import and Initialize Sentiment Analyzer\n",
    "from vaderSentiment.vaderSentiment import SentimentIntensityAnalyzer\n",
    "analyzer = SentimentIntensityAnalyzer()"
   ]
  },
  {
   "cell_type": "code",
   "execution_count": 92,
   "metadata": {
    "collapsed": true
   },
   "outputs": [],
   "source": [
    "consumer_key = ''\n",
    "consumer_secret = ''\n",
    "access_token = ''\n",
    "access_token_secret = ''\n"
   ]
  },
  {
   "cell_type": "code",
   "execution_count": 93,
   "metadata": {
    "collapsed": true
   },
   "outputs": [],
   "source": [
    "# Setup Tweepy API Authentication\n",
    "auth = tweepy.OAuthHandler(consumer_key, consumer_secret)\n",
    "auth.set_access_token(access_token, access_token_secret)\n",
    "api = tweepy.API(auth, parser=tweepy.parsers.JSONParser())"
   ]
  },
  {
   "cell_type": "code",
   "execution_count": null,
   "metadata": {
    "collapsed": true
   },
   "outputs": [],
   "source": []
  },
  {
   "cell_type": "code",
   "execution_count": 94,
   "metadata": {
    "collapsed": true
   },
   "outputs": [],
   "source": [
    "def sentiment_analyter (user):\n",
    "    \n",
    "    # Array to hold sentiment\n",
    "    sentiment_dict = []\n",
    "    sentiment_mean = [] \n",
    "    compound_list = []\n",
    "    # Counter\n",
    "    counter = 1\n",
    "    all_tweets = []\n",
    "\n",
    "# Loop through 2 times (total of 100 tweets)\n",
    "    for x in range(2):\n",
    "        if len(all_tweets) > 100:\n",
    "            break\n",
    "\n",
    "        # Run search around each tweet\n",
    "        public_tweets = api.search(user, count=50, result_type=\"recent\")\n",
    "\n",
    "    # Loop through all tweets\n",
    "        for tweet in public_tweets[\"statuses\"]:\n",
    "            all_tweets.append(tweet)\n",
    "\n",
    "            # Run Vader Analysis on each tweet\n",
    "            compound = analyzer.polarity_scores(tweet[\"text\"])[\"compound\"]\n",
    "            pos = analyzer.polarity_scores(tweet[\"text\"])[\"pos\"]\n",
    "            neu = analyzer.polarity_scores(tweet[\"text\"])[\"neu\"]\n",
    "            neg = analyzer.polarity_scores(tweet[\"text\"])[\"neg\"]\n",
    "            \n",
    "            # Add each compound value to the compound array\n",
    "            compound_list.append(compound)\n",
    "\n",
    " \n",
    "                # Store the Average Sentiments\n",
    "            sentiment_dict.append( {\"User\": user,\n",
    "                                \"Date\": tweet[\"created_at\"], \n",
    "                                \"Compound\": compound,\n",
    "                                \"Positive\": pos,\n",
    "                                \"Negative\": neg,\n",
    "                                \"Neutral\": neu,\n",
    "                                \"Tweets Ago\": counter})\n",
    "                # Counter\n",
    "            counter += 1\n",
    "    sentiment_mean = {user: np.mean(compound_list)}       \n",
    "    return sentiment_dict, sentiment_mean"
   ]
  },
  {
   "cell_type": "code",
   "execution_count": 95,
   "metadata": {
    "collapsed": false
   },
   "outputs": [
    {
     "data": {
      "text/html": [
       "<div>\n",
       "<style scoped>\n",
       "    .dataframe tbody tr th:only-of-type {\n",
       "        vertical-align: middle;\n",
       "    }\n",
       "\n",
       "    .dataframe tbody tr th {\n",
       "        vertical-align: top;\n",
       "    }\n",
       "\n",
       "    .dataframe thead th {\n",
       "        text-align: right;\n",
       "    }\n",
       "</style>\n",
       "<table border=\"1\" class=\"dataframe\">\n",
       "  <thead>\n",
       "    <tr style=\"text-align: right;\">\n",
       "      <th></th>\n",
       "      <th>Compound</th>\n",
       "      <th>Date</th>\n",
       "      <th>Negative</th>\n",
       "      <th>Neutral</th>\n",
       "      <th>Positive</th>\n",
       "      <th>Tweets Ago</th>\n",
       "      <th>User</th>\n",
       "    </tr>\n",
       "  </thead>\n",
       "  <tbody>\n",
       "    <tr>\n",
       "      <th>99</th>\n",
       "      <td>0.7783</td>\n",
       "      <td>Tue Mar 27 23:10:06 +0000 2018</td>\n",
       "      <td>0.0</td>\n",
       "      <td>0.698</td>\n",
       "      <td>0.302</td>\n",
       "      <td>100</td>\n",
       "      <td>@BBC</td>\n",
       "    </tr>\n",
       "    <tr>\n",
       "      <th>98</th>\n",
       "      <td>0.0000</td>\n",
       "      <td>Tue Mar 27 23:10:07 +0000 2018</td>\n",
       "      <td>0.0</td>\n",
       "      <td>1.000</td>\n",
       "      <td>0.000</td>\n",
       "      <td>99</td>\n",
       "      <td>@BBC</td>\n",
       "    </tr>\n",
       "    <tr>\n",
       "      <th>97</th>\n",
       "      <td>0.0000</td>\n",
       "      <td>Tue Mar 27 23:10:46 +0000 2018</td>\n",
       "      <td>0.0</td>\n",
       "      <td>1.000</td>\n",
       "      <td>0.000</td>\n",
       "      <td>98</td>\n",
       "      <td>@BBC</td>\n",
       "    </tr>\n",
       "    <tr>\n",
       "      <th>96</th>\n",
       "      <td>0.0000</td>\n",
       "      <td>Tue Mar 27 23:10:59 +0000 2018</td>\n",
       "      <td>0.0</td>\n",
       "      <td>1.000</td>\n",
       "      <td>0.000</td>\n",
       "      <td>97</td>\n",
       "      <td>@BBC</td>\n",
       "    </tr>\n",
       "    <tr>\n",
       "      <th>95</th>\n",
       "      <td>0.0000</td>\n",
       "      <td>Tue Mar 27 23:11:04 +0000 2018</td>\n",
       "      <td>0.0</td>\n",
       "      <td>1.000</td>\n",
       "      <td>0.000</td>\n",
       "      <td>96</td>\n",
       "      <td>@BBC</td>\n",
       "    </tr>\n",
       "  </tbody>\n",
       "</table>\n",
       "</div>"
      ],
      "text/plain": [
       "    Compound                            Date  Negative  Neutral  Positive  \\\n",
       "99    0.7783  Tue Mar 27 23:10:06 +0000 2018       0.0    0.698     0.302   \n",
       "98    0.0000  Tue Mar 27 23:10:07 +0000 2018       0.0    1.000     0.000   \n",
       "97    0.0000  Tue Mar 27 23:10:46 +0000 2018       0.0    1.000     0.000   \n",
       "96    0.0000  Tue Mar 27 23:10:59 +0000 2018       0.0    1.000     0.000   \n",
       "95    0.0000  Tue Mar 27 23:11:04 +0000 2018       0.0    1.000     0.000   \n",
       "\n",
       "    Tweets Ago  User  \n",
       "99         100  @BBC  \n",
       "98          99  @BBC  \n",
       "97          98  @BBC  \n",
       "96          97  @BBC  \n",
       "95          96  @BBC  "
      ]
     },
     "execution_count": 95,
     "metadata": {},
     "output_type": "execute_result"
    }
   ],
   "source": [
    "sentiment_dict_bbc,sentiment_mean_bbc = sentiment_analyter(\"@BBC\")\n",
    "sentiment_df_bbc = pd.DataFrame.from_dict(sentiment_dict_bbc)\n",
    "#print(sentiment_mean_bbc)\n",
    "#sentiment_df.head()\n",
    "sentiment_df_bbc = sentiment_df_bbc.sort_values(\"Tweets Ago\", ascending=False)\n",
    "sentiment_df_bbc.reset_index(drop=True)\n",
    "sentiment_df_bbc.head()"
   ]
  },
  {
   "cell_type": "code",
   "execution_count": 96,
   "metadata": {
    "collapsed": true
   },
   "outputs": [],
   "source": [
    "# # Save the DataFrame as a csv\n",
    "# sentiment_dict_bbc.to_csv(\"Media Analisys.csv\",\n",
    "#                      encoding=\"utf-8\", index=False)"
   ]
  },
  {
   "cell_type": "code",
   "execution_count": 97,
   "metadata": {
    "collapsed": false,
    "scrolled": true
   },
   "outputs": [
    {
     "data": {
      "text/html": [
       "<div>\n",
       "<style scoped>\n",
       "    .dataframe tbody tr th:only-of-type {\n",
       "        vertical-align: middle;\n",
       "    }\n",
       "\n",
       "    .dataframe tbody tr th {\n",
       "        vertical-align: top;\n",
       "    }\n",
       "\n",
       "    .dataframe thead th {\n",
       "        text-align: right;\n",
       "    }\n",
       "</style>\n",
       "<table border=\"1\" class=\"dataframe\">\n",
       "  <thead>\n",
       "    <tr style=\"text-align: right;\">\n",
       "      <th></th>\n",
       "      <th>Compound</th>\n",
       "      <th>Date</th>\n",
       "      <th>Negative</th>\n",
       "      <th>Neutral</th>\n",
       "      <th>Positive</th>\n",
       "      <th>Tweets Ago</th>\n",
       "      <th>User</th>\n",
       "    </tr>\n",
       "  </thead>\n",
       "  <tbody>\n",
       "    <tr>\n",
       "      <th>99</th>\n",
       "      <td>0.0000</td>\n",
       "      <td>Tue Mar 27 23:09:47 +0000 2018</td>\n",
       "      <td>0.000</td>\n",
       "      <td>1.000</td>\n",
       "      <td>0.000</td>\n",
       "      <td>100</td>\n",
       "      <td>@CBS</td>\n",
       "    </tr>\n",
       "    <tr>\n",
       "      <th>98</th>\n",
       "      <td>-0.6956</td>\n",
       "      <td>Tue Mar 27 23:10:20 +0000 2018</td>\n",
       "      <td>0.346</td>\n",
       "      <td>0.466</td>\n",
       "      <td>0.188</td>\n",
       "      <td>99</td>\n",
       "      <td>@CBS</td>\n",
       "    </tr>\n",
       "    <tr>\n",
       "      <th>97</th>\n",
       "      <td>0.0000</td>\n",
       "      <td>Tue Mar 27 23:10:48 +0000 2018</td>\n",
       "      <td>0.000</td>\n",
       "      <td>1.000</td>\n",
       "      <td>0.000</td>\n",
       "      <td>98</td>\n",
       "      <td>@CBS</td>\n",
       "    </tr>\n",
       "    <tr>\n",
       "      <th>96</th>\n",
       "      <td>0.0000</td>\n",
       "      <td>Tue Mar 27 23:11:11 +0000 2018</td>\n",
       "      <td>0.000</td>\n",
       "      <td>1.000</td>\n",
       "      <td>0.000</td>\n",
       "      <td>97</td>\n",
       "      <td>@CBS</td>\n",
       "    </tr>\n",
       "    <tr>\n",
       "      <th>95</th>\n",
       "      <td>0.0000</td>\n",
       "      <td>Tue Mar 27 23:11:29 +0000 2018</td>\n",
       "      <td>0.000</td>\n",
       "      <td>1.000</td>\n",
       "      <td>0.000</td>\n",
       "      <td>96</td>\n",
       "      <td>@CBS</td>\n",
       "    </tr>\n",
       "  </tbody>\n",
       "</table>\n",
       "</div>"
      ],
      "text/plain": [
       "    Compound                            Date  Negative  Neutral  Positive  \\\n",
       "99    0.0000  Tue Mar 27 23:09:47 +0000 2018     0.000    1.000     0.000   \n",
       "98   -0.6956  Tue Mar 27 23:10:20 +0000 2018     0.346    0.466     0.188   \n",
       "97    0.0000  Tue Mar 27 23:10:48 +0000 2018     0.000    1.000     0.000   \n",
       "96    0.0000  Tue Mar 27 23:11:11 +0000 2018     0.000    1.000     0.000   \n",
       "95    0.0000  Tue Mar 27 23:11:29 +0000 2018     0.000    1.000     0.000   \n",
       "\n",
       "    Tweets Ago  User  \n",
       "99         100  @CBS  \n",
       "98          99  @CBS  \n",
       "97          98  @CBS  \n",
       "96          97  @CBS  \n",
       "95          96  @CBS  "
      ]
     },
     "execution_count": 97,
     "metadata": {},
     "output_type": "execute_result"
    }
   ],
   "source": [
    "sentiment_dict_cbs,sentiment_mean_cbs = sentiment_analyter(\"@CBS\")\n",
    "sentiment_df_cbs = pd.DataFrame.from_dict(sentiment_dict_cbs)\n",
    "#sentiment_df.head()\n",
    "sentiment_df_cbs = sentiment_df_cbs.sort_values(\"Tweets Ago\", ascending=False)\n",
    "sentiment_df_cbs.reset_index(drop=True)\n",
    "sentiment_df_cbs.head()"
   ]
  },
  {
   "cell_type": "code",
   "execution_count": 98,
   "metadata": {
    "collapsed": true
   },
   "outputs": [],
   "source": [
    "# # Save the DataFrame as a csv\n",
    "# sentiment_dict_cbs.to_csv(\"Media Analisys.csv\", mode='a', header=False\n",
    "#                      encoding=\"utf-8\", index=False)\n",
    "result_df = sentiment_df_bbc.append(sentiment_df_cbs)"
   ]
  },
  {
   "cell_type": "code",
   "execution_count": 99,
   "metadata": {
    "collapsed": false
   },
   "outputs": [
    {
     "data": {
      "text/html": [
       "<div>\n",
       "<style scoped>\n",
       "    .dataframe tbody tr th:only-of-type {\n",
       "        vertical-align: middle;\n",
       "    }\n",
       "\n",
       "    .dataframe tbody tr th {\n",
       "        vertical-align: top;\n",
       "    }\n",
       "\n",
       "    .dataframe thead th {\n",
       "        text-align: right;\n",
       "    }\n",
       "</style>\n",
       "<table border=\"1\" class=\"dataframe\">\n",
       "  <thead>\n",
       "    <tr style=\"text-align: right;\">\n",
       "      <th></th>\n",
       "      <th>Compound</th>\n",
       "      <th>Date</th>\n",
       "      <th>Negative</th>\n",
       "      <th>Neutral</th>\n",
       "      <th>Positive</th>\n",
       "      <th>Tweets Ago</th>\n",
       "      <th>User</th>\n",
       "    </tr>\n",
       "  </thead>\n",
       "  <tbody>\n",
       "    <tr>\n",
       "      <th>99</th>\n",
       "      <td>-0.4466</td>\n",
       "      <td>Tue Mar 27 23:20:31 +0000 2018</td>\n",
       "      <td>0.164</td>\n",
       "      <td>0.836</td>\n",
       "      <td>0.000</td>\n",
       "      <td>100</td>\n",
       "      <td>@CNN</td>\n",
       "    </tr>\n",
       "    <tr>\n",
       "      <th>98</th>\n",
       "      <td>0.0000</td>\n",
       "      <td>Tue Mar 27 23:20:31 +0000 2018</td>\n",
       "      <td>0.000</td>\n",
       "      <td>1.000</td>\n",
       "      <td>0.000</td>\n",
       "      <td>99</td>\n",
       "      <td>@CNN</td>\n",
       "    </tr>\n",
       "    <tr>\n",
       "      <th>97</th>\n",
       "      <td>0.0000</td>\n",
       "      <td>Tue Mar 27 23:20:32 +0000 2018</td>\n",
       "      <td>0.000</td>\n",
       "      <td>1.000</td>\n",
       "      <td>0.000</td>\n",
       "      <td>98</td>\n",
       "      <td>@CNN</td>\n",
       "    </tr>\n",
       "    <tr>\n",
       "      <th>96</th>\n",
       "      <td>-0.3094</td>\n",
       "      <td>Tue Mar 27 23:20:33 +0000 2018</td>\n",
       "      <td>0.173</td>\n",
       "      <td>0.707</td>\n",
       "      <td>0.121</td>\n",
       "      <td>97</td>\n",
       "      <td>@CNN</td>\n",
       "    </tr>\n",
       "    <tr>\n",
       "      <th>95</th>\n",
       "      <td>-0.8658</td>\n",
       "      <td>Tue Mar 27 23:20:33 +0000 2018</td>\n",
       "      <td>0.350</td>\n",
       "      <td>0.650</td>\n",
       "      <td>0.000</td>\n",
       "      <td>96</td>\n",
       "      <td>@CNN</td>\n",
       "    </tr>\n",
       "  </tbody>\n",
       "</table>\n",
       "</div>"
      ],
      "text/plain": [
       "    Compound                            Date  Negative  Neutral  Positive  \\\n",
       "99   -0.4466  Tue Mar 27 23:20:31 +0000 2018     0.164    0.836     0.000   \n",
       "98    0.0000  Tue Mar 27 23:20:31 +0000 2018     0.000    1.000     0.000   \n",
       "97    0.0000  Tue Mar 27 23:20:32 +0000 2018     0.000    1.000     0.000   \n",
       "96   -0.3094  Tue Mar 27 23:20:33 +0000 2018     0.173    0.707     0.121   \n",
       "95   -0.8658  Tue Mar 27 23:20:33 +0000 2018     0.350    0.650     0.000   \n",
       "\n",
       "    Tweets Ago  User  \n",
       "99         100  @CNN  \n",
       "98          99  @CNN  \n",
       "97          98  @CNN  \n",
       "96          97  @CNN  \n",
       "95          96  @CNN  "
      ]
     },
     "execution_count": 99,
     "metadata": {},
     "output_type": "execute_result"
    }
   ],
   "source": [
    "sentiment_dict_cnn,sentiment_mean_cnn = sentiment_analyter(\"@CNN\")\n",
    "sentiment_df_cnn = pd.DataFrame.from_dict(sentiment_dict_cnn)\n",
    "#sentiment_df.head()\n",
    "sentiment_df_cnn = sentiment_df_cnn.sort_values(\"Tweets Ago\", ascending=False)\n",
    "sentiment_df_cnn.reset_index(drop=True)\n",
    "sentiment_df_cnn.head()"
   ]
  },
  {
   "cell_type": "code",
   "execution_count": 100,
   "metadata": {
    "collapsed": true
   },
   "outputs": [],
   "source": [
    "# # Save the DataFrame as a csv\n",
    "# sentiment_dict_cnn.to_csv(\"Media Analisys.csv\", mode='a', header=False\n",
    "#                      encoding=\"utf-8\", index=False)\n",
    "result_df = result_df.append(sentiment_df_cnn)"
   ]
  },
  {
   "cell_type": "code",
   "execution_count": 101,
   "metadata": {
    "collapsed": false
   },
   "outputs": [
    {
     "data": {
      "text/html": [
       "<div>\n",
       "<style scoped>\n",
       "    .dataframe tbody tr th:only-of-type {\n",
       "        vertical-align: middle;\n",
       "    }\n",
       "\n",
       "    .dataframe tbody tr th {\n",
       "        vertical-align: top;\n",
       "    }\n",
       "\n",
       "    .dataframe thead th {\n",
       "        text-align: right;\n",
       "    }\n",
       "</style>\n",
       "<table border=\"1\" class=\"dataframe\">\n",
       "  <thead>\n",
       "    <tr style=\"text-align: right;\">\n",
       "      <th></th>\n",
       "      <th>Compound</th>\n",
       "      <th>Date</th>\n",
       "      <th>Negative</th>\n",
       "      <th>Neutral</th>\n",
       "      <th>Positive</th>\n",
       "      <th>Tweets Ago</th>\n",
       "      <th>User</th>\n",
       "    </tr>\n",
       "  </thead>\n",
       "  <tbody>\n",
       "    <tr>\n",
       "      <th>99</th>\n",
       "      <td>0.4199</td>\n",
       "      <td>Tue Mar 27 22:48:09 +0000 2018</td>\n",
       "      <td>0.0</td>\n",
       "      <td>0.787</td>\n",
       "      <td>0.213</td>\n",
       "      <td>100</td>\n",
       "      <td>@FOXTV</td>\n",
       "    </tr>\n",
       "    <tr>\n",
       "      <th>98</th>\n",
       "      <td>0.0000</td>\n",
       "      <td>Tue Mar 27 22:48:09 +0000 2018</td>\n",
       "      <td>0.0</td>\n",
       "      <td>1.000</td>\n",
       "      <td>0.000</td>\n",
       "      <td>99</td>\n",
       "      <td>@FOXTV</td>\n",
       "    </tr>\n",
       "    <tr>\n",
       "      <th>97</th>\n",
       "      <td>0.4199</td>\n",
       "      <td>Tue Mar 27 22:48:09 +0000 2018</td>\n",
       "      <td>0.0</td>\n",
       "      <td>0.787</td>\n",
       "      <td>0.213</td>\n",
       "      <td>98</td>\n",
       "      <td>@FOXTV</td>\n",
       "    </tr>\n",
       "    <tr>\n",
       "      <th>96</th>\n",
       "      <td>0.0000</td>\n",
       "      <td>Tue Mar 27 22:48:51 +0000 2018</td>\n",
       "      <td>0.0</td>\n",
       "      <td>1.000</td>\n",
       "      <td>0.000</td>\n",
       "      <td>97</td>\n",
       "      <td>@FOXTV</td>\n",
       "    </tr>\n",
       "    <tr>\n",
       "      <th>95</th>\n",
       "      <td>0.0000</td>\n",
       "      <td>Tue Mar 27 22:49:51 +0000 2018</td>\n",
       "      <td>0.0</td>\n",
       "      <td>1.000</td>\n",
       "      <td>0.000</td>\n",
       "      <td>96</td>\n",
       "      <td>@FOXTV</td>\n",
       "    </tr>\n",
       "  </tbody>\n",
       "</table>\n",
       "</div>"
      ],
      "text/plain": [
       "    Compound                            Date  Negative  Neutral  Positive  \\\n",
       "99    0.4199  Tue Mar 27 22:48:09 +0000 2018       0.0    0.787     0.213   \n",
       "98    0.0000  Tue Mar 27 22:48:09 +0000 2018       0.0    1.000     0.000   \n",
       "97    0.4199  Tue Mar 27 22:48:09 +0000 2018       0.0    0.787     0.213   \n",
       "96    0.0000  Tue Mar 27 22:48:51 +0000 2018       0.0    1.000     0.000   \n",
       "95    0.0000  Tue Mar 27 22:49:51 +0000 2018       0.0    1.000     0.000   \n",
       "\n",
       "    Tweets Ago    User  \n",
       "99         100  @FOXTV  \n",
       "98          99  @FOXTV  \n",
       "97          98  @FOXTV  \n",
       "96          97  @FOXTV  \n",
       "95          96  @FOXTV  "
      ]
     },
     "execution_count": 101,
     "metadata": {},
     "output_type": "execute_result"
    }
   ],
   "source": [
    "sentiment_dict_fox,sentiment_mean_fox = sentiment_analyter(\"@FOXTV\")\n",
    "sentiment_df_fox = pd.DataFrame.from_dict(sentiment_dict_fox)\n",
    "#sentiment_df.head()\n",
    "sentiment_df_fox = sentiment_df_fox.sort_values(\"Tweets Ago\", ascending=False)\n",
    "sentiment_df_fox.reset_index(drop=True)\n",
    "sentiment_df_fox.head()"
   ]
  },
  {
   "cell_type": "code",
   "execution_count": 102,
   "metadata": {
    "collapsed": true
   },
   "outputs": [],
   "source": [
    "# # Save the DataFrame as a csv\n",
    "# sentiment_dict_fox.to_csv(\"Media Analisys.csv\", mode='a', header=False\n",
    "#                      encoding=\"utf-8\", index=False)\n",
    "result_df = result_df.append(sentiment_df_fox)"
   ]
  },
  {
   "cell_type": "code",
   "execution_count": 103,
   "metadata": {
    "collapsed": false
   },
   "outputs": [
    {
     "data": {
      "text/html": [
       "<div>\n",
       "<style scoped>\n",
       "    .dataframe tbody tr th:only-of-type {\n",
       "        vertical-align: middle;\n",
       "    }\n",
       "\n",
       "    .dataframe tbody tr th {\n",
       "        vertical-align: top;\n",
       "    }\n",
       "\n",
       "    .dataframe thead th {\n",
       "        text-align: right;\n",
       "    }\n",
       "</style>\n",
       "<table border=\"1\" class=\"dataframe\">\n",
       "  <thead>\n",
       "    <tr style=\"text-align: right;\">\n",
       "      <th></th>\n",
       "      <th>Compound</th>\n",
       "      <th>Date</th>\n",
       "      <th>Negative</th>\n",
       "      <th>Neutral</th>\n",
       "      <th>Positive</th>\n",
       "      <th>Tweets Ago</th>\n",
       "      <th>User</th>\n",
       "    </tr>\n",
       "  </thead>\n",
       "  <tbody>\n",
       "    <tr>\n",
       "      <th>99</th>\n",
       "      <td>-0.3400</td>\n",
       "      <td>Tue Mar 27 23:20:01 +0000 2018</td>\n",
       "      <td>0.103</td>\n",
       "      <td>0.897</td>\n",
       "      <td>0.000</td>\n",
       "      <td>100</td>\n",
       "      <td>@nytimes</td>\n",
       "    </tr>\n",
       "    <tr>\n",
       "      <th>98</th>\n",
       "      <td>-0.4019</td>\n",
       "      <td>Tue Mar 27 23:20:01 +0000 2018</td>\n",
       "      <td>0.130</td>\n",
       "      <td>0.870</td>\n",
       "      <td>0.000</td>\n",
       "      <td>99</td>\n",
       "      <td>@nytimes</td>\n",
       "    </tr>\n",
       "    <tr>\n",
       "      <th>97</th>\n",
       "      <td>0.6124</td>\n",
       "      <td>Tue Mar 27 23:20:02 +0000 2018</td>\n",
       "      <td>0.000</td>\n",
       "      <td>0.688</td>\n",
       "      <td>0.312</td>\n",
       "      <td>98</td>\n",
       "      <td>@nytimes</td>\n",
       "    </tr>\n",
       "    <tr>\n",
       "      <th>96</th>\n",
       "      <td>0.0000</td>\n",
       "      <td>Tue Mar 27 23:20:03 +0000 2018</td>\n",
       "      <td>0.000</td>\n",
       "      <td>1.000</td>\n",
       "      <td>0.000</td>\n",
       "      <td>97</td>\n",
       "      <td>@nytimes</td>\n",
       "    </tr>\n",
       "    <tr>\n",
       "      <th>95</th>\n",
       "      <td>-0.4019</td>\n",
       "      <td>Tue Mar 27 23:20:03 +0000 2018</td>\n",
       "      <td>0.130</td>\n",
       "      <td>0.870</td>\n",
       "      <td>0.000</td>\n",
       "      <td>96</td>\n",
       "      <td>@nytimes</td>\n",
       "    </tr>\n",
       "  </tbody>\n",
       "</table>\n",
       "</div>"
      ],
      "text/plain": [
       "    Compound                            Date  Negative  Neutral  Positive  \\\n",
       "99   -0.3400  Tue Mar 27 23:20:01 +0000 2018     0.103    0.897     0.000   \n",
       "98   -0.4019  Tue Mar 27 23:20:01 +0000 2018     0.130    0.870     0.000   \n",
       "97    0.6124  Tue Mar 27 23:20:02 +0000 2018     0.000    0.688     0.312   \n",
       "96    0.0000  Tue Mar 27 23:20:03 +0000 2018     0.000    1.000     0.000   \n",
       "95   -0.4019  Tue Mar 27 23:20:03 +0000 2018     0.130    0.870     0.000   \n",
       "\n",
       "    Tweets Ago      User  \n",
       "99         100  @nytimes  \n",
       "98          99  @nytimes  \n",
       "97          98  @nytimes  \n",
       "96          97  @nytimes  \n",
       "95          96  @nytimes  "
      ]
     },
     "execution_count": 103,
     "metadata": {},
     "output_type": "execute_result"
    }
   ],
   "source": [
    "sentiment_dict_nytimes,sentiment_mean_nytimes = sentiment_analyter(\"@nytimes\")\n",
    "sentiment_df_nytimes = pd.DataFrame.from_dict(sentiment_dict_nytimes)\n",
    "#sentiment_df.head()\n",
    "sentiment_df_nytimes = sentiment_df_nytimes.sort_values(\"Tweets Ago\", ascending=False)\n",
    "sentiment_df_nytimes.reset_index(drop=True)\n",
    "sentiment_df_nytimes.head()"
   ]
  },
  {
   "cell_type": "code",
   "execution_count": 104,
   "metadata": {
    "collapsed": false
   },
   "outputs": [],
   "source": [
    "# # Save the DataFrame as a csv\n",
    "# sentiment_dict_nytimes.to_csv(\"Media Analisys.csv\", mode='a', header=False\n",
    "#                      encoding=\"utf-8\", index=False)\n",
    "result_df = result_df.append(sentiment_df_nytimes)\n",
    "result_df.to_csv(\"Media Analisys.csv\", encoding=\"utf-8\", index=False )"
   ]
  },
  {
   "cell_type": "code",
   "execution_count": 105,
   "metadata": {
    "collapsed": false
   },
   "outputs": [
    {
     "data": {
      "image/png": "[encoded data removed]",
      "text/plain": [
       "<matplotlib.figure.Figure at 0x1a1e9b5dd8>"
      ]
     },
     "metadata": {},
     "output_type": "display_data"
    }
   ],
   "source": [
    "#plt_bbc = \n",
    "bbc = plt.scatter(sentiment_df_bbc[\"Tweets Ago\"],sentiment_df_bbc[\"Compound\"], s=120, facecolor='lightblue',\n",
    "                   edgecolors=\"black\",alpha=0.75, label = 'BBC')\n",
    "cbs = plt.scatter(sentiment_df_cbs[\"Tweets Ago\"],sentiment_df_cbs[\"Compound\"], s=120, facecolor='green',\n",
    "                   edgecolors=\"black\",alpha=0.75, label = 'CBS')\n",
    "cnn = plt.scatter(sentiment_df_cnn[\"Tweets Ago\"],sentiment_df_cnn[\"Compound\"], s=120, facecolor='red',\n",
    "                   edgecolors=\"black\",alpha=0.75, label = 'CNN')\n",
    "fox = plt.scatter(sentiment_df_fox[\"Tweets Ago\"],sentiment_df_fox[\"Compound\"], s=120, facecolor='darkblue',\n",
    "                   edgecolors=\"black\",alpha=0.75, label = 'FOX')\n",
    "nytimes = plt.scatter(sentiment_df_nytimes[\"Tweets Ago\"],sentiment_df_nytimes[\"Compound\"], s=120, facecolor='yellow',\n",
    "                   edgecolors=\"black\",alpha=0.75, label = 'New York Times')\n",
    "plt.legend(handles=[bbc, cbs, cnn, fox,nytimes], title=\"Media Sourses\", bbox_to_anchor=(1.05, 1), loc=2, borderaxespad=0.)\n",
    "fig_size = plt.rcParams[\"figure.figsize\"]\n",
    "fig_size[0] = 10\n",
    "fig_size[1] = 8\n",
    "plt.ylim(-1,1)\n",
    "plt.xlim(100,0)\n",
    "plt.grid(True)\n",
    "plt.title(\"Sentiment Analysys of Media Tweets (03/27/2018)\")\n",
    "plt.xlabel(\"Twwets Ago\")\n",
    "plt.ylabel(\"Tweet Polarity\")\n",
    "plt.savefig(\"SentimentAnalisysOfMedia.png\")\n",
    "plt.show()"
   ]
  },
  {
   "cell_type": "markdown",
   "metadata": {
    "collapsed": true
   },
   "source": [
    "\n",
    "## Bar Plot: Sentiment analysys of media"
   ]
  },
  {
   "cell_type": "code",
   "execution_count": 106,
   "metadata": {
    "collapsed": false
   },
   "outputs": [],
   "source": [
    "result_dict ={**sentiment_mean_bbc, **sentiment_mean_cbs, **sentiment_mean_cnn, \n",
    "              **sentiment_mean_fox, **sentiment_mean_nytimes}\n",
    "\n",
    "result_df = pd.DataFrame.from_dict([result_dict] )\n"
   ]
  },
  {
   "cell_type": "code",
   "execution_count": 107,
   "metadata": {
    "collapsed": false
   },
   "outputs": [
    {
     "data": {
      "text/plain": [
       "@BBC       -0.007600\n",
       "@CBS        0.154416\n",
       "@CNN        0.018352\n",
       "@FOXTV      0.165872\n",
       "@nytimes   -0.110348\n",
       "Name: 0, dtype: float64"
      ]
     },
     "execution_count": 107,
     "metadata": {},
     "output_type": "execute_result"
    }
   ],
   "source": [
    "y_value = result_df.iloc[0, :]\n",
    "y_value"
   ]
  },
  {
   "cell_type": "code",
   "execution_count": 108,
   "metadata": {
    "collapsed": false
   },
   "outputs": [
    {
     "data": {
      "image/png": "[encoded data removed]",
      "text/plain": [
       "<matplotlib.figure.Figure at 0x1a1ea52588>"
      ]
     },
     "metadata": {},
     "output_type": "display_data"
    }
   ],
   "source": [
    "#target_terms = (\"@BBC\", \"@CBS\", \"@CNN\",\"@FOXTV\", \"@nytimes\")\n",
    "colors = ('lightblue', 'green','red', 'darkblue', 'yellow')\n",
    "tick_locations = np.arange(len(result_df.columns))                           \n",
    "plt.bar(np.arange(len(result_df.columns)), y_value,  color=colors,  align=\"center\")\n",
    "plt.xticks(tick_locations, result_df.columns, ha=\"right\")\n",
    "plt.title(\"Overall Media Sentiment Based on Twitter (03/27/2018)\")\n",
    "plt.ylabel(\"Tweet Polarity\")\n",
    "plt.savefig(\"TweetPolarity.png\")\n",
    "plt.show()"
   ]
  },
  {
   "cell_type": "markdown",
   "metadata": {},
   "source": [
    "* Include a written description of three observable trends based on the data. \n",
    "According to VADER analysis on 03/27/2018 news media organizations:\n",
    "1. CBS, CNN, and Fox have more positive sentiments\n",
    "2. BBS and NY Times have more negative sentiments\n",
    "3. CBS has most positive average compount sentiments\n"
   ]
  },
  {
   "cell_type": "code",
   "execution_count": null,
   "metadata": {
    "collapsed": true
   },
   "outputs": [],
   "source": []
  }
 ],
 "metadata": {
  "anaconda-cloud": {},
  "kernelspec": {
   "display_name": "Python [conda env:PythonData]",
   "language": "python",
   "name": "conda-env-PythonData-py"
  },
  "language_info": {
   "codemirror_mode": {
    "name": "ipython",
    "version": 3
   },
   "file_extension": ".py",
   "mimetype": "text/x-python",
   "name": "python",
   "nbconvert_exporter": "python",
   "pygments_lexer": "ipython3",
   "version": "3.6.4"
  }
 },
 "nbformat": 4,
 "nbformat_minor": 1
}
